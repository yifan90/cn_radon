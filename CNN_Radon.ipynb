{
 "cells": [
  {
   "cell_type": "markdown",
   "metadata": {},
   "source": [
    "This is a hello world CNN to show that not only can CNN distinguish the original images, but their Radon transform as well."
   ]
  },
  {
   "cell_type": "code",
   "execution_count": 285,
   "metadata": {},
   "outputs": [],
   "source": [
    "import numpy\n",
    "import torch\n",
    "import torch.nn as nn\n",
    "import torch.nn.functional as F\n",
    "import torch.optim as optim\n",
    "import matplotlib.pyplot as plt\n",
    "from torch.autograd import Variable\n",
    "import random\n",
    "from skimage.transform import radon, rescale"
   ]
  },
  {
   "cell_type": "markdown",
   "metadata": {},
   "source": [
    "We generate some easy toy data, one thousand $200\\times 200$ 0-1 images and around half of them circle, the other half rectangle. We also calculate their Radon tranform.\n",
    "\n",
    "We will use 900 for traning and the other 100 for testing."
   ]
  },
  {
   "cell_type": "code",
   "execution_count": 286,
   "metadata": {},
   "outputs": [],
   "source": [
    "def generate_toy_image(label):\n",
    "    theta = numpy.linspace(0., 180., 200, endpoint=False)\n",
    "    temp_image = numpy.zeros((200,200))\n",
    "    \n",
    "    # label 0 for rectangle and 1 for circle\n",
    "    if label == 0:\n",
    "        center_x = random.randrange(60,140)\n",
    "        center_y = random.randrange(60,140)\n",
    "        r = random.randrange(10,35)\n",
    "        for j in range(image_size):\n",
    "            for k in range(image_size):\n",
    "                if (j-center_x)**2 + (k-center_y)**2 < r**2:\n",
    "                    temp_image[j][k] = 1\n",
    "                else:\n",
    "                    temp_image[j][k] = 0\n",
    "    else:\n",
    "        x1 = random.randrange(60,140)\n",
    "        dx = random.randrange(10,35)\n",
    "        y1 = random.randrange(60,140)\n",
    "        dy = random.randrange(10,35)\n",
    "    \n",
    "        for j in range(x1, x1+dx+1):\n",
    "            for k in range(y1,y1+dy+1):\n",
    "                temp_image[j][k] = 1\n",
    "\n",
    "    # also calculate its Radon transform\n",
    "    temp_radon = radon(temp_image, theta=theta) \n",
    "    return[temp_image,temp_radon]\n",
    "\n",
    "N = 1000\n",
    "N_train = 900\n",
    "\n",
    "image = torch.zeros([N,1,200,200])\n",
    "radondata = torch.zeros([N,1,200,200])\n",
    "label = torch.zeros([N,1])\n",
    "\n",
    "for i in range(N):\n",
    "    temp_label =  1.0 if random.random() > 0.5 else 0.0\n",
    "    [temp_image, temp_radon] = generate_toy_image(temp_label)\n",
    "    image[i,0,:,:] = torch.tensor(temp_image)\n",
    "    radondata[i,0,:,:] = torch.tensor(temp_radon)\n",
    "    label[i,0] = temp_label"
   ]
  },
  {
   "cell_type": "markdown",
   "metadata": {},
   "source": [
    "A sample image and its Radon transform"
   ]
  },
  {
   "cell_type": "code",
   "execution_count": 287,
   "metadata": {},
   "outputs": [
    {
     "data": {
      "text/plain": [
       "<matplotlib.image.AxesImage at 0x21028f93fc8>"
      ]
     },
     "execution_count": 287,
     "metadata": {},
     "output_type": "execute_result"
    },
    {
     "data": {
      "image/png": "[encoded data removed]",
      "text/plain": [
       "<Figure size 576x324 with 2 Axes>"
      ]
     },
     "metadata": {
      "needs_background": "light"
     },
     "output_type": "display_data"
    }
   ],
   "source": [
    "fig, (ax1, ax2) = plt.subplots(1, 2, figsize=(8, 4.5), sharex=True, sharey=True)\n",
    "ax1.imshow(image[0,0,:,:].numpy(), cmap=plt.cm.Greys_r)\n",
    "ax2.imshow(radondata[0,0,:,:].numpy(), cmap=plt.cm.Greys_r)"
   ]
  },
  {
   "cell_type": "markdown",
   "metadata": {},
   "source": [
    "Define our CNN and trainning process."
   ]
  },
  {
   "cell_type": "code",
   "execution_count": 288,
   "metadata": {},
   "outputs": [],
   "source": [
    "class Net(nn.Module):\n",
    "    def __init__(self):\n",
    "        super(Net, self).__init__()\n",
    "        self.conv1 = nn.Conv2d(1, 5, 5)\n",
    "        self.pool = nn.MaxPool2d(4, 4)\n",
    "        self.conv2 = nn.Conv2d(5, 10, 2)\n",
    "        self.fc1 = nn.Linear(10 * 12 * 12, 500)\n",
    "        self.fc2 = nn.Linear(500, 100)\n",
    "        self.fc3 = nn.Linear(100, 1)\n",
    "        self.out_act = nn.Sigmoid()\n",
    "\n",
    "    def forward(self, x):\n",
    "        x = self.pool(F.relu(self.conv1(x)))\n",
    "        x = self.pool(F.relu(self.conv2(x)))\n",
    "        x = x.view(-1, 10 * 12 * 12)\n",
    "        x = F.relu(self.fc1(x))\n",
    "        x = F.relu(self.fc2(x))\n",
    "        x = self.fc3(x)\n",
    "        x = self.out_act(x)\n",
    "        return x"
   ]
  },
  {
   "cell_type": "code",
   "execution_count": 289,
   "metadata": {},
   "outputs": [],
   "source": [
    "def train_epoch(x, y, model, opt, criterion, batch_size=50):\n",
    "    losses = []\n",
    "    for beg_i in range(0, x.size(0), batch_size):\n",
    "        x_batch = x[beg_i:beg_i + batch_size, :]\n",
    "        y_batch = y[beg_i:beg_i + batch_size, :]\n",
    "        \n",
    "        opt.zero_grad()\n",
    "        y_hat = model(x_batch)\n",
    "        loss = criterion(y_hat, y_batch)\n",
    "        loss.backward()\n",
    "        opt.step()        \n",
    "        losses.append(loss.data.numpy())\n",
    "    return losses"
   ]
  },
  {
   "cell_type": "markdown",
   "metadata": {},
   "source": [
    "Train the model on the first 900 original pictures. The success rate on the training set is 86%, which can be increased to 99% if set number of epochs to 10."
   ]
  },
  {
   "cell_type": "code",
   "execution_count": 303,
   "metadata": {},
   "outputs": [
    {
     "name": "stdout",
     "output_type": "stream",
     "text": [
      "0.8633333333333333\n"
     ]
    }
   ],
   "source": [
    "net1 = Net()\n",
    "opt1 = optim.Adam(net1.parameters(), lr=0.001, betas=(0.9, 0.999))\n",
    "lose_func1 = nn.BCELoss()\n",
    "\n",
    "e_losses = []\n",
    "num_epochs = 5\n",
    "train_data = image[0:N_train]\n",
    "train_label = label[0:N_train]\n",
    "\n",
    "for e in range(num_epochs):\n",
    "    e_losses.append(train_epoch(train_data, train_label, net1, opt1, lose_func1))\n",
    "\n",
    "model_label = net1(train_data)\n",
    "correct_count = 0\n",
    "for i in range(train_data.shape[0]):\n",
    "    if (1.0 if model_label[i][0].item() > 0.5 else 0.0) == train_label[i][0].item():\n",
    "        correct_count = correct_count + 1\n",
    "\n",
    "print(correct_count/train_data.shape[0])"
   ]
  },
  {
   "cell_type": "markdown",
   "metadata": {},
   "source": [
    "The error curve for the first epoch."
   ]
  },
  {
   "cell_type": "code",
   "execution_count": 304,
   "metadata": {},
   "outputs": [
    {
     "data": {
      "text/plain": [
       "[<matplotlib.lines.Line2D at 0x210289e4708>]"
      ]
     },
     "execution_count": 304,
     "metadata": {},
     "output_type": "execute_result"
    },
    {
     "data": {
      "image/png": "[encoded data removed]",
      "text/plain": [
       "<Figure size 432x288 with 1 Axes>"
      ]
     },
     "metadata": {
      "needs_background": "light"
     },
     "output_type": "display_data"
    }
   ],
   "source": [
    "import matplotlib.pyplot as plt\n",
    "plt.plot(e_losses[0])"
   ]
  },
  {
   "cell_type": "markdown",
   "metadata": {},
   "source": [
    "Get similar success rate on testing set."
   ]
  },
  {
   "cell_type": "code",
   "execution_count": 305,
   "metadata": {},
   "outputs": [
    {
     "name": "stdout",
     "output_type": "stream",
     "text": [
      "0.86\n"
     ]
    }
   ],
   "source": [
    "test_data = image[N_train :]\n",
    "test_label = label[N_train :]\n",
    "model_label = net1(test_data)\n",
    "\n",
    "correct_count = 0\n",
    "for i in range(test_data.shape[0]):\n",
    "    if (1.0 if model_label[i][0].item() > 0.5 else 0.0) == test_label[i][0].item():\n",
    "        correct_count = correct_count + 1\n",
    "\n",
    "print(correct_count/test_data.shape[0])\n",
    "    "
   ]
  },
  {
   "cell_type": "markdown",
   "metadata": {},
   "source": [
    "Train the second CNN to classify images' Radon transform. With the same number of iterations, the success rate is 100%."
   ]
  },
  {
   "cell_type": "code",
   "execution_count": 294,
   "metadata": {},
   "outputs": [
    {
     "name": "stdout",
     "output_type": "stream",
     "text": [
      "1.0\n"
     ]
    }
   ],
   "source": [
    "net2 = Net()\n",
    "opt2 = optim.Adam(net2.parameters(), lr=0.001, betas=(0.9, 0.999))\n",
    "lose_func2 = nn.BCELoss()\n",
    "e_losses_radon = []\n",
    "num_epochs = 5\n",
    "train_data = radondata[0:N_train]\n",
    "train_label = label[0:N_train]\n",
    "\n",
    "for e in range(num_epochs):\n",
    "    e_losses.append(train_epoch(train_data, train_label, net2, opt2, lose_func2))\n",
    "\n",
    "model_label = net2(train_data)\n",
    "correct_count = 0\n",
    "for i in range(train_data.shape[0]):\n",
    "    if (1.0 if model_label[i][0].item() > 0.5 else 0.0) == train_label[i][0].item():\n",
    "        correct_count = correct_count + 1\n",
    "\n",
    "print(correct_count/train_data.shape[0])"
   ]
  },
  {
   "cell_type": "markdown",
   "metadata": {},
   "source": [
    "The error curve for the first epoch"
   ]
  },
  {
   "cell_type": "code",
   "execution_count": 278,
   "metadata": {},
   "outputs": [
    {
     "data": {
      "text/plain": [
       "[<matplotlib.lines.Line2D at 0x210286c6b88>]"
      ]
     },
     "execution_count": 278,
     "metadata": {},
     "output_type": "execute_result"
    },
    {
     "data": {
      "image/png": "[encoded data removed]",
      "text/plain": [
       "<Figure size 432x288 with 1 Axes>"
      ]
     },
     "metadata": {
      "needs_background": "light"
     },
     "output_type": "display_data"
    }
   ],
   "source": [
    "import matplotlib.pyplot as plt\n",
    "plt.plot(e_losses[0])"
   ]
  },
  {
   "cell_type": "markdown",
   "metadata": {},
   "source": [
    "Also get 100% success rate on the testing set for Radon images."
   ]
  },
  {
   "cell_type": "code",
   "execution_count": 296,
   "metadata": {},
   "outputs": [
    {
     "name": "stdout",
     "output_type": "stream",
     "text": [
      "1.0\n"
     ]
    }
   ],
   "source": [
    "test_data = radondata[N_train :]\n",
    "test_label = label[N_train :]\n",
    "model_label = net2(test_data)\n",
    "\n",
    "correct_count = 0\n",
    "for i in range(test_data.shape[0]):\n",
    "    if (1.0 if model_label[i][0].item() > 0.5 else 0.0) == test_label[i][0].item():\n",
    "        correct_count = correct_count + 1\n",
    "\n",
    "print(correct_count/test_data.shape[0])"
   ]
  },
  {
   "cell_type": "markdown",
   "metadata": {},
   "source": [
    "Suprisingly it seems CNN can distinguish between Radon images better than the original one.\n",
    "\n",
    "One explaination might be for rectangle Radon images, you can see four sin curves a"
   ]
  },
  {
   "cell_type": "code",
   "execution_count": 300,
   "metadata": {},
   "outputs": [
    {
     "data": {
      "text/plain": [
       "<matplotlib.image.AxesImage at 0x210288ed888>"
      ]
     },
     "execution_count": 300,
     "metadata": {},
     "output_type": "execute_result"
    },
    {
     "data": {
      "image/png": "[encoded data removed]",
      "text/plain": [
       "<Figure size 576x324 with 2 Axes>"
      ]
     },
     "metadata": {
      "needs_background": "light"
     },
     "output_type": "display_data"
    }
   ],
   "source": [
    "fig, (ax1, ax2) = plt.subplots(1, 2, figsize=(8, 4.5), sharex=True, sharey=True)\n",
    "ax1.imshow(test_data[5,0,:,:].numpy(), cmap=plt.cm.Greys_r)\n",
    "ax2.imshow(test_data[6,0,:,:].numpy(), cmap=plt.cm.Greys_r)"
   ]
  },
  {
   "cell_type": "code",
   "execution_count": null,
   "metadata": {},
   "outputs": [],
   "source": []
  }
 ],
 "metadata": {
  "kernelspec": {
   "display_name": "Python 3",
   "language": "python",
   "name": "python3"
  },
  "language_info": {
   "codemirror_mode": {
    "name": "ipython",
    "version": 3
   },
   "file_extension": ".py",
   "mimetype": "text/x-python",
   "name": "python",
   "nbconvert_exporter": "python",
   "pygments_lexer": "ipython3",
   "version": "3.7.6"
  }
 },
 "nbformat": 4,
 "nbformat_minor": 4
}
